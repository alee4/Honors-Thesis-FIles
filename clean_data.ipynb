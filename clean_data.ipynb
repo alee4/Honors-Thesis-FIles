{
 "cells": [
  {
   "cell_type": "code",
   "execution_count": 70,
   "id": "b607b699",
   "metadata": {},
   "outputs": [],
   "source": [
    "import os\n",
    "import glob\n",
    "import pandas as pd"
   ]
  },
  {
   "cell_type": "code",
   "execution_count": 36,
   "id": "3787912d",
   "metadata": {},
   "outputs": [
    {
     "name": "stdout",
     "output_type": "stream",
     "text": [
      "Antiwork complete\n",
      "Conservative complete\n",
      "coronavirus complete\n",
      "HermanCainAward_df complete\n",
      "JoeRogan_df complete\n",
      "Libertarian_df complete\n",
      "politics_df complete\n",
      "progressive_df complete\n",
      "ukraine_df complete\n",
      "walkaway_df complete\n",
      "WorkReform_df complete\n",
      "=========================\n",
      "all dataframes loaded, gl lol\n"
     ]
    }
   ],
   "source": [
    "\n",
    "antiwork_df = pd.read_csv('raw data/all/antiwork_combined_csv.csv', low_memory=False)\n",
    "print(\"Antiwork complete\")\n",
    "\n",
    "Conservative_df = pd.read_csv('raw data/all/Conservative_combined_csv.csv', low_memory=False)\n",
    "print(\"Conservative complete\")\n",
    "\n",
    "Coronavirus_df = pd.read_csv('raw data/all/Coronavirus_combined_csv.csv', low_memory=False)\n",
    "print(\"coronavirus complete\")\n",
    "\n",
    "HermanCainAward_df = pd.read_csv('raw data/all/HermanCainAward_combined_csv.csv', low_memory=False)\n",
    "print(\"HermanCainAward_df complete\")\n",
    "\n",
    "JoeRogan_df = pd.read_csv('raw data/all/JoeRogan_combined_csv.csv', low_memory=False)\n",
    "print(\"JoeRogan_df complete\")\n",
    "\n",
    "Libertarian_df = pd.read_csv('raw data/all/Libertarian_combined_csv.csv', low_memory=False)\n",
    "print(\"Libertarian_df complete\")\n",
    "\n",
    "politics_df = pd.read_csv('raw data/all/politics_combined_csv.csv', low_memory=False)\n",
    "print(\"politics_df complete\")\n",
    "\n",
    "progressive_df = pd.read_csv('raw data/all/progressive_combined_csv.csv', low_memory=False)\n",
    "print(\"progressive_df complete\")\n",
    "\n",
    "ukraine_df = pd.read_csv('raw data/all/ukraine_combined_csv.csv', low_memory=False)\n",
    "print(\"ukraine_df complete\")\n",
    "\n",
    "walkaway_df = pd.read_csv('raw data/all/walkaway_combined_csv.csv', low_memory=False)\n",
    "print(\"walkaway_df complete\")\n",
    "\n",
    "WorkReform_df = pd.read_csv('raw data/all/WorkReform_combined_csv.csv', low_memory=False)\n",
    "print(\"WorkReform_df complete\")\n",
    "\n",
    "print(\"=========================\")\n",
    "print(\"all dataframes loaded, gl lol\")"
   ]
  },
  {
   "cell_type": "code",
   "execution_count": 38,
   "id": "08a6e778",
   "metadata": {},
   "outputs": [],
   "source": [
    "antiwork_df.name = \"r/antiwork\"\n",
    "Conservative_df.name = \"r/Conservative\"\n",
    "Coronavirus_df.name = \"r/Coronavirus\"\n",
    "HermanCainAward_df.name = \"r/HermanCainAward\"\n",
    "JoeRogan_df.name = \"r/JoeRogan\"\n",
    "Libertarian_df.name = \"r/Libertarian\"\n",
    "politics_df.name = \"r/politics\"\n",
    "progressive_df.name = \"r/progressive\"\n",
    "ukraine_df.name = \"r/ukraine\"\n",
    "walkaway_df.name = \"r/walkaway\"\n",
    "WorkReform_df.name = \"r/WorkReform\""
   ]
  },
  {
   "cell_type": "code",
   "execution_count": 39,
   "id": "f32631ca",
   "metadata": {},
   "outputs": [],
   "source": [
    "\n",
    "list_of_data_frames = [antiwork_df, Conservative_df, Coronavirus_df, HermanCainAward_df, JoeRogan_df,\n",
    "                      Libertarian_df, politics_df, progressive_df, ukraine_df, walkaway_df, WorkReform_df]\n",
    "\n"
   ]
  },
  {
   "cell_type": "code",
   "execution_count": 45,
   "id": "c25d6c22",
   "metadata": {},
   "outputs": [
    {
     "name": "stdout",
     "output_type": "stream",
     "text": [
      "r/antiwork\n",
      "(477024, 48)\n",
      "r/Conservative\n",
      "(424, 47)\n",
      "r/Coronavirus\n",
      "(29021, 48)\n",
      "r/HermanCainAward\n",
      "(59265, 48)\n",
      "r/JoeRogan\n",
      "(94648, 50)\n",
      "r/Libertarian\n",
      "(43885, 48)\n",
      "r/politics\n",
      "(422115, 48)\n",
      "r/progressive\n",
      "(217, 48)\n",
      "r/ukraine\n",
      "(1704, 49)\n",
      "r/walkaway\n",
      "(20530, 48)\n",
      "r/WorkReform\n",
      "(47965, 48)\n"
     ]
    }
   ],
   "source": [
    "\n",
    "# iterating the columns\n",
    "for frame in list_of_data_frames:\n",
    "    print(frame.name)\n",
    "    print(frame.shape)\n",
    "#     print(frame.columns)"
   ]
  },
  {
   "cell_type": "code",
   "execution_count": 63,
   "id": "24bc0543",
   "metadata": {},
   "outputs": [
    {
     "name": "stdout",
     "output_type": "stream",
     "text": [
      "Finished apending r/antiwork\n",
      "Finished apending r/Conservative\n",
      "Finished apending r/Coronavirus\n",
      "Finished apending r/HermanCainAward\n",
      "Finished apending r/JoeRogan\n",
      "Finished apending r/Libertarian\n",
      "Finished apending r/politics\n",
      "Finished apending r/progressive\n",
      "Finished apending r/ukraine\n",
      "Finished apending r/walkaway\n",
      "Finished apending r/WorkReform\n",
      "All done\n"
     ]
    }
   ],
   "source": [
    "all_comments_df = pd.DataFrame(columns = columns_names)\n",
    "\n",
    "for frame in list_of_data_frames:\n",
    "    all_comments_df = all_comments_df.append(frame)\n",
    "        \n",
    "    print(\"Finished apending\", str(frame.name))\n",
    "\n",
    "print(\"All done\")"
   ]
  },
  {
   "cell_type": "code",
   "execution_count": 64,
   "id": "5b6ce52d",
   "metadata": {},
   "outputs": [
    {
     "data": {
      "text/plain": [
       "(1196798, 50)"
      ]
     },
     "execution_count": 64,
     "metadata": {},
     "output_type": "execute_result"
    }
   ],
   "source": [
    "all_comments_df.shape"
   ]
  },
  {
   "cell_type": "code",
   "execution_count": 65,
   "id": "5a99576e",
   "metadata": {},
   "outputs": [
    {
     "data": {
      "text/plain": [
       "(1196798, 14)"
      ]
     },
     "execution_count": 65,
     "metadata": {},
     "output_type": "execute_result"
    }
   ],
   "source": [
    "columns_names = ['author', 'author_fullname', 'author_premium', 'body','controversiality', 'created_utc',\n",
    "                 'id','link_id','parent_id', 'permalink', 'score',\n",
    "                 'subreddit', 'subreddit_id', 'total_awards_received']\n",
    "\n",
    "all_comments_df = all_comments_df[columns_names]\n",
    "\n",
    "all_comments_df.shape"
   ]
  },
  {
   "cell_type": "code",
   "execution_count": 67,
   "id": "1b5f9a8a",
   "metadata": {},
   "outputs": [],
   "source": [
    "all_comments_df.to_csv('cleaned_dataset.csv',index=False)"
   ]
  },
  {
   "cell_type": "code",
   "execution_count": 72,
   "id": "ed65b339",
   "metadata": {},
   "outputs": [
    {
     "data": {
      "text/html": [
       "<div>\n",
       "<style scoped>\n",
       "    .dataframe tbody tr th:only-of-type {\n",
       "        vertical-align: middle;\n",
       "    }\n",
       "\n",
       "    .dataframe tbody tr th {\n",
       "        vertical-align: top;\n",
       "    }\n",
       "\n",
       "    .dataframe thead th {\n",
       "        text-align: right;\n",
       "    }\n",
       "</style>\n",
       "<table border=\"1\" class=\"dataframe\">\n",
       "  <thead>\n",
       "    <tr style=\"text-align: right;\">\n",
       "      <th></th>\n",
       "      <th>author</th>\n",
       "      <th>score</th>\n",
       "      <th>body</th>\n",
       "    </tr>\n",
       "  </thead>\n",
       "  <tbody>\n",
       "    <tr>\n",
       "      <th>448805</th>\n",
       "      <td>pale_blue_dots</td>\n",
       "      <td>1.0</td>\n",
       "      <td>Oooh, that'd be funnier if it weren't so fucki...</td>\n",
       "    </tr>\n",
       "    <tr>\n",
       "      <th>98578</th>\n",
       "      <td>RaceOfBass</td>\n",
       "      <td>1.0</td>\n",
       "      <td>It would be good</td>\n",
       "    </tr>\n",
       "    <tr>\n",
       "      <th>271787</th>\n",
       "      <td>bringsmemes</td>\n",
       "      <td>1.0</td>\n",
       "      <td>this is so obviously fake, save your outrage\\n...</td>\n",
       "    </tr>\n",
       "    <tr>\n",
       "      <th>220927</th>\n",
       "      <td>ChairOFLamp</td>\n",
       "      <td>1.0</td>\n",
       "      <td>Yup! I no longer wish to sacrifice that much o...</td>\n",
       "    </tr>\n",
       "    <tr>\n",
       "      <th>45950</th>\n",
       "      <td>KhansKhack</td>\n",
       "      <td>1.0</td>\n",
       "      <td>Oh that’s a cute trick.</td>\n",
       "    </tr>\n",
       "    <tr>\n",
       "      <th>201679</th>\n",
       "      <td>ImportantDoubt6434</td>\n",
       "      <td>1.0</td>\n",
       "      <td>Union employees:\\n\\n**im about to sit on this ...</td>\n",
       "    </tr>\n",
       "    <tr>\n",
       "      <th>404464</th>\n",
       "      <td>cooter__1</td>\n",
       "      <td>1.0</td>\n",
       "      <td>Lmao and I’m 46. \\n\\nYou all must be flush wit...</td>\n",
       "    </tr>\n",
       "    <tr>\n",
       "      <th>3133</th>\n",
       "      <td>GFischerUY</td>\n",
       "      <td>1.0</td>\n",
       "      <td>Are you running my company? 😝</td>\n",
       "    </tr>\n",
       "    <tr>\n",
       "      <th>355957</th>\n",
       "      <td>explosive_evacuation</td>\n",
       "      <td>1.0</td>\n",
       "      <td>They need to make it unaffordable to hold on t...</td>\n",
       "    </tr>\n",
       "    <tr>\n",
       "      <th>281531</th>\n",
       "      <td>ChubbyBunny2020</td>\n",
       "      <td>1.0</td>\n",
       "      <td>Sure you can.  If low wage workers leave, pric...</td>\n",
       "    </tr>\n",
       "  </tbody>\n",
       "</table>\n",
       "</div>"
      ],
      "text/plain": [
       "                      author  score  \\\n",
       "448805        pale_blue_dots    1.0   \n",
       "98578             RaceOfBass    1.0   \n",
       "271787           bringsmemes    1.0   \n",
       "220927           ChairOFLamp    1.0   \n",
       "45950             KhansKhack    1.0   \n",
       "201679    ImportantDoubt6434    1.0   \n",
       "404464             cooter__1    1.0   \n",
       "3133              GFischerUY    1.0   \n",
       "355957  explosive_evacuation    1.0   \n",
       "281531       ChubbyBunny2020    1.0   \n",
       "\n",
       "                                                     body  \n",
       "448805  Oooh, that'd be funnier if it weren't so fucki...  \n",
       "98578                                    It would be good  \n",
       "271787  this is so obviously fake, save your outrage\\n...  \n",
       "220927  Yup! I no longer wish to sacrifice that much o...  \n",
       "45950                             Oh that’s a cute trick.  \n",
       "201679  Union employees:\\n\\n**im about to sit on this ...  \n",
       "404464  Lmao and I’m 46. \\n\\nYou all must be flush wit...  \n",
       "3133                        Are you running my company? 😝  \n",
       "355957  They need to make it unaffordable to hold on t...  \n",
       "281531  Sure you can.  If low wage workers leave, pric...  "
      ]
     },
     "execution_count": 72,
     "metadata": {},
     "output_type": "execute_result"
    }
   ],
   "source": [
    "comments_df[['author', 'score', 'body']].sample(10)\n",
    "#pick random sample of comments collected, "
   ]
  },
  {
   "cell_type": "code",
   "execution_count": null,
   "id": "2c7a13d6",
   "metadata": {},
   "outputs": [],
   "source": []
  }
 ],
 "metadata": {
  "kernelspec": {
   "display_name": "Python 3 (ipykernel)",
   "language": "python",
   "name": "python3"
  },
  "language_info": {
   "codemirror_mode": {
    "name": "ipython",
    "version": 3
   },
   "file_extension": ".py",
   "mimetype": "text/x-python",
   "name": "python",
   "nbconvert_exporter": "python",
   "pygments_lexer": "ipython3",
   "version": "3.8.8"
  }
 },
 "nbformat": 4,
 "nbformat_minor": 5
}
