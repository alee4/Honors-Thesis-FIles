{
 "cells": [
  {
   "cell_type": "code",
   "execution_count": 6,
   "id": "9af5d565",
   "metadata": {},
   "outputs": [
    {
     "name": "stdout",
     "output_type": "stream",
     "text": [
      "Current working directory C:\\Users\\Austin\\Desktop\\Honors Thesis Files\\csv1\n"
     ]
    }
   ],
   "source": [
    "import os\n",
    "import glob\n",
    "import pandas as pd\n",
    "\n",
    "\n",
    "# Check current working directory.\n",
    "retval = os.getcwd()\n",
    "print(\"Current working directory %s\" % retval)\n"
   ]
  },
  {
   "cell_type": "code",
   "execution_count": 41,
   "id": "c23a9c1d",
   "metadata": {},
   "outputs": [
    {
     "name": "stdout",
     "output_type": "stream",
     "text": [
      "Current working directory C:\\Users\\Austin\\Desktop\\Honors Thesis Files\\ThesisFiles\n"
     ]
    }
   ],
   "source": [
    "os.chdir('Honors Thesis Files\\ThesisFiles')\n",
    "\n",
    "retval = os.getcwd()\n",
    "print(\"Current working directory %s\" % retval)"
   ]
  },
  {
   "cell_type": "code",
   "execution_count": 42,
   "id": "d9eafa92",
   "metadata": {},
   "outputs": [],
   "source": [
    "# data = pd.read_csv(\"csv3/03-12-2022 01_00_JoeRogan.csv\")\n",
    "# data2 = pd.read_csv(\"csv3/03-12-2022 02_00_JoeRogan.csv\")\n",
    "\n",
    "# merged = data.merge(data2, on='all_awardings')\n",
    "\n",
    "# merged.to_csv(\"csv3/output.csv\", index=False)\n"
   ]
  },
  {
   "cell_type": "code",
   "execution_count": 43,
   "id": "04ca7e33",
   "metadata": {},
   "outputs": [],
   "source": [
    "# extension = 'csv'\n",
    "# all_filenames = [i for i in glob.glob('*.{}'.format(extension))]\n",
    "    "
   ]
  },
  {
   "cell_type": "code",
   "execution_count": 44,
   "id": "34e600c8",
   "metadata": {},
   "outputs": [],
   "source": [
    "# all_filenames"
   ]
  },
  {
   "cell_type": "code",
   "execution_count": 71,
   "id": "f8aeae0f",
   "metadata": {},
   "outputs": [],
   "source": [
    "def combind_csv(directory):\n",
    "    try:\n",
    "        os.chdir(directory)\n",
    "    except:\n",
    "        print(\"Could not change directory to \", directory)\n",
    "    extension = 'csv'\n",
    "    all_filenames = [i for i in glob.glob('*.{}'.format(extension))]\n",
    "    \n",
    "#     print(type(all_filenames[1]))\n",
    "    \n",
    "    #combine all files in the list\n",
    "    for f in all_filenames:\n",
    "#         print(f)\n",
    "        try:\n",
    "            combined_csv = pd.concat([pd.read_csv(f)])\n",
    "        except:\n",
    "            print(\"Oops!  File not work...\")\n",
    "            print(\"Bad file is: \", f)\n",
    "    \n",
    "    csv_name = str(directory) + \"_combined_csv.csv\"\n",
    "    \n",
    "    #export to csv\n",
    "    combined_csv.to_csv(csv_name, index=False, encoding='utf-8-sig')\n",
    "\n",
    "    os.chdir('..')\n",
    "    \n",
    "subreddit_list = [\"JoeRogan\", \"walkaway\", \"WorkReform\", \"ukraine\", \"conspiracy\", \n",
    "                       \"Coronavirus\", \"HermanCainAward\", \"antiwork\", \"politics\", \n",
    "                  \"Conservative\", \"progressive\", \"Libertarian\"]\n",
    "list_of_dirs = [\"csv1\", \"csv2\", \"JoeRogan\"]\n",
    "\n",
    "#completed file creations: \"JoeRogan\", \"walkaway\", \"WorkReform\", conspiracy, \n",
    "#\"Coronavirus\", \"HermanCainAward\", \"antiwork\", \"politics\", \"progressive\", \"Libertarian\"\n",
    "\n",
    "#missing: ukraine, Conservative\n",
    "\n",
    "# for d in subreddit_list: \n",
    "#     combind_csv(d)\n",
    "#     print(\"Completed combinding csv files for\", str(d))\n",
    "\n",
    "# print(\"Finished operation\")"
   ]
  },
  {
   "cell_type": "code",
   "execution_count": 75,
   "id": "c70a751d",
   "metadata": {},
   "outputs": [
    {
     "name": "stdout",
     "output_type": "stream",
     "text": [
      "Current working directory C:\\Users\\Austin\\Desktop\\Honors Thesis Files\\ThesisFiles\n"
     ]
    },
    {
     "name": "stderr",
     "output_type": "stream",
     "text": [
      "C:\\Users\\Austin\\anaconda3\\lib\\site-packages\\IPython\\core\\interactiveshell.py:3357: DtypeWarning: Columns (1,2,16,17,18,19,22,23,25,28,30,31,36,37,38,47) have mixed types.Specify dtype option on import or set low_memory=False.\n",
      "  if (await self.run_code(code, result,  async_=asy)):\n",
      "C:\\Users\\Austin\\anaconda3\\lib\\site-packages\\IPython\\core\\interactiveshell.py:3357: DtypeWarning: Columns (5) have mixed types.Specify dtype option on import or set low_memory=False.\n",
      "  if (await self.run_code(code, result,  async_=asy)):\n",
      "C:\\Users\\Austin\\anaconda3\\lib\\site-packages\\IPython\\core\\interactiveshell.py:3357: DtypeWarning: Columns (4) have mixed types.Specify dtype option on import or set low_memory=False.\n",
      "  if (await self.run_code(code, result,  async_=asy)):\n"
     ]
    },
    {
     "name": "stdout",
     "output_type": "stream",
     "text": [
      "Completed combinding csv files for all\n"
     ]
    }
   ],
   "source": [
    "#author\tauthor_premium\tbody\tcontroversiality\tcreated_utc\tlocked\n",
    "#no_follow\tparent_id\tpermalink\tscore\tsubreddit\ttotal_awards_received\n",
    "\n",
    "\n",
    "retval = os.getcwd()\n",
    "print(\"Current working directory %s\" % retval)\n",
    "\n",
    "d = \"all\"\n",
    "combind_csv(d)\n",
    "print(\"Completed combinding csv files for\", str(d))"
   ]
  },
  {
   "cell_type": "code",
   "execution_count": 48,
   "id": "8471e68f",
   "metadata": {},
   "outputs": [
    {
     "name": "stdout",
     "output_type": "stream",
     "text": [
      "Current working directory C:\\Users\\Austin\\Desktop\\Honors Thesis Files\n"
     ]
    }
   ],
   "source": [
    "retval = os.getcwd()\n",
    "print(\"Current working directory %s\" % retval)"
   ]
  },
  {
   "cell_type": "code",
   "execution_count": 51,
   "id": "a00c122d",
   "metadata": {},
   "outputs": [
    {
     "name": "stdout",
     "output_type": "stream",
     "text": [
      "Number of lines present:- 180\n"
     ]
    }
   ],
   "source": [
    "# read CSV file\n",
    "results = pd.read_csv('csv1/csv1_combined_csv.csv')\n",
    "# count no. of lines\n",
    "print(\"Number of lines present:-\", \n",
    "      len(results))"
   ]
  },
  {
   "cell_type": "code",
   "execution_count": null,
   "id": "9dfe21e9",
   "metadata": {},
   "outputs": [],
   "source": []
  }
 ],
 "metadata": {
  "kernelspec": {
   "display_name": "Python 3 (ipykernel)",
   "language": "python",
   "name": "python3"
  },
  "language_info": {
   "codemirror_mode": {
    "name": "ipython",
    "version": 3
   },
   "file_extension": ".py",
   "mimetype": "text/x-python",
   "name": "python",
   "nbconvert_exporter": "python",
   "pygments_lexer": "ipython3",
   "version": "3.8.8"
  }
 },
 "nbformat": 4,
 "nbformat_minor": 5
}
